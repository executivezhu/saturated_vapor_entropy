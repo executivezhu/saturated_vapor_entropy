{
 "cells": [
  {
   "cell_type": "code",
   "execution_count": 20,
   "metadata": {},
   "outputs": [
    {
     "name": "stdout",
     "output_type": "stream",
     "text": [
      "70.8\n"
     ]
    }
   ],
   "source": [
    "run cal_han 10 30"
   ]
  },
  {
   "cell_type": "code",
   "execution_count": 4,
   "metadata": {},
   "outputs": [
    {
     "name": "stdout",
     "output_type": "stream",
     "text": [
      "1108.695\n"
     ]
    }
   ],
   "source": [
    "run cal_han 426 3.1"
   ]
  },
  {
   "cell_type": "code",
   "execution_count": 5,
   "metadata": {},
   "outputs": [
    {
     "name": "stdout",
     "output_type": "stream",
     "text": [
      "1846.8249999999998\n"
     ]
    }
   ],
   "source": [
    "run cal_han 430 3.1"
   ]
  },
  {
   "cell_type": "code",
   "execution_count": 6,
   "metadata": {},
   "outputs": [
    {
     "name": "stdout",
     "output_type": "stream",
     "text": [
      "1794.85\n"
     ]
    }
   ],
   "source": [
    "run cal_han 430 4"
   ]
  },
  {
   "cell_type": "code",
   "execution_count": 7,
   "metadata": {},
   "outputs": [
    {
     "name": "stdout",
     "output_type": "stream",
     "text": [
      "3444.2\n"
     ]
    }
   ],
   "source": [
    "run cal_han 440 5"
   ]
  },
  {
   "cell_type": "code",
   "execution_count": 15,
   "metadata": {},
   "outputs": [
    {
     "data": {
      "text/plain": [
       "(31, 12)"
      ]
     },
     "execution_count": 15,
     "metadata": {},
     "output_type": "execute_result"
    }
   ],
   "source": [
    "df.shape"
   ]
  },
  {
   "cell_type": "code",
   "execution_count": 16,
   "metadata": {},
   "outputs": [
    {
     "data": {
      "text/html": [
       "<div>\n",
       "<style scoped>\n",
       "    .dataframe tbody tr th:only-of-type {\n",
       "        vertical-align: middle;\n",
       "    }\n",
       "\n",
       "    .dataframe tbody tr th {\n",
       "        vertical-align: top;\n",
       "    }\n",
       "\n",
       "    .dataframe thead th {\n",
       "        text-align: right;\n",
       "    }\n",
       "</style>\n",
       "<table border=\"1\" class=\"dataframe\">\n",
       "  <thead>\n",
       "    <tr style=\"text-align: right;\">\n",
       "      <th></th>\n",
       "      <th>f_1</th>\n",
       "      <th>f_2</th>\n",
       "      <th>f_3</th>\n",
       "      <th>f_4</th>\n",
       "      <th>f_5</th>\n",
       "      <th>f_6</th>\n",
       "      <th>f_7</th>\n",
       "      <th>f_8</th>\n",
       "      <th>f_9</th>\n",
       "      <th>f_10</th>\n",
       "      <th>f_11</th>\n",
       "      <th>f_12</th>\n",
       "    </tr>\n",
       "  </thead>\n",
       "  <tbody>\n",
       "    <tr>\n",
       "      <th>0</th>\n",
       "      <td>0.0</td>\n",
       "      <td>0.1</td>\n",
       "      <td>0.5</td>\n",
       "      <td>1.0</td>\n",
       "      <td>3.0</td>\n",
       "      <td>5.0</td>\n",
       "      <td>7.1</td>\n",
       "      <td>10.1</td>\n",
       "      <td>14.1</td>\n",
       "      <td>20.1</td>\n",
       "      <td>25.1</td>\n",
       "      <td>30.0</td>\n",
       "    </tr>\n",
       "    <tr>\n",
       "      <th>1</th>\n",
       "      <td>42.0</td>\n",
       "      <td>42.1</td>\n",
       "      <td>42.5</td>\n",
       "      <td>43.0</td>\n",
       "      <td>44.9</td>\n",
       "      <td>46.9</td>\n",
       "      <td>48.8</td>\n",
       "      <td>51.7</td>\n",
       "      <td>55.6</td>\n",
       "      <td>61.3</td>\n",
       "      <td>66.1</td>\n",
       "      <td>70.8</td>\n",
       "    </tr>\n",
       "    <tr>\n",
       "      <th>2</th>\n",
       "      <td>83.9</td>\n",
       "      <td>84.0</td>\n",
       "      <td>84.3</td>\n",
       "      <td>84.8</td>\n",
       "      <td>86.7</td>\n",
       "      <td>88.6</td>\n",
       "      <td>90.4</td>\n",
       "      <td>93.2</td>\n",
       "      <td>97.0</td>\n",
       "      <td>102.5</td>\n",
       "      <td>107.1</td>\n",
       "      <td>111.7</td>\n",
       "    </tr>\n",
       "    <tr>\n",
       "      <th>3</th>\n",
       "      <td>167.4</td>\n",
       "      <td>167.5</td>\n",
       "      <td>167.9</td>\n",
       "      <td>168.3</td>\n",
       "      <td>170.1</td>\n",
       "      <td>171.9</td>\n",
       "      <td>173.6</td>\n",
       "      <td>176.3</td>\n",
       "      <td>179.8</td>\n",
       "      <td>185.1</td>\n",
       "      <td>189.4</td>\n",
       "      <td>193.8</td>\n",
       "    </tr>\n",
       "    <tr>\n",
       "      <th>4</th>\n",
       "      <td>2611.3</td>\n",
       "      <td>251.2</td>\n",
       "      <td>251.2</td>\n",
       "      <td>251.9</td>\n",
       "      <td>253.6</td>\n",
       "      <td>255.3</td>\n",
       "      <td>256.9</td>\n",
       "      <td>259.4</td>\n",
       "      <td>262.8</td>\n",
       "      <td>267.8</td>\n",
       "      <td>272.0</td>\n",
       "      <td>276.1</td>\n",
       "    </tr>\n",
       "  </tbody>\n",
       "</table>\n",
       "</div>"
      ],
      "text/plain": [
       "      f_1    f_2    f_3    f_4    f_5    f_6    f_7    f_8    f_9   f_10  \\\n",
       "0     0.0    0.1    0.5    1.0    3.0    5.0    7.1   10.1   14.1   20.1   \n",
       "1    42.0   42.1   42.5   43.0   44.9   46.9   48.8   51.7   55.6   61.3   \n",
       "2    83.9   84.0   84.3   84.8   86.7   88.6   90.4   93.2   97.0  102.5   \n",
       "3   167.4  167.5  167.9  168.3  170.1  171.9  173.6  176.3  179.8  185.1   \n",
       "4  2611.3  251.2  251.2  251.9  253.6  255.3  256.9  259.4  262.8  267.8   \n",
       "\n",
       "    f_11   f_12  \n",
       "0   25.1   30.0  \n",
       "1   66.1   70.8  \n",
       "2  107.1  111.7  \n",
       "3  189.4  193.8  \n",
       "4  272.0  276.1  "
      ]
     },
     "execution_count": 16,
     "metadata": {},
     "output_type": "execute_result"
    }
   ],
   "source": [
    "df.head()"
   ]
  }
 ],
 "metadata": {
  "kernelspec": {
   "display_name": "Python 3",
   "language": "python",
   "name": "python3"
  },
  "language_info": {
   "codemirror_mode": {
    "name": "ipython",
    "version": 3
   },
   "file_extension": ".py",
   "mimetype": "text/x-python",
   "name": "python",
   "nbconvert_exporter": "python",
   "pygments_lexer": "ipython3",
   "version": "3.7.3"
  }
 },
 "nbformat": 4,
 "nbformat_minor": 2
}
